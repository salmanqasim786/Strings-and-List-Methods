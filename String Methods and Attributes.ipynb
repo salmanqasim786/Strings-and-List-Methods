{
 "cells": [
  {
   "cell_type": "code",
   "execution_count": 1,
   "metadata": {},
   "outputs": [
    {
     "name": "stdout",
     "output_type": "stream",
     "text": [
      "ArtiFiciAl IntElliGence\n",
      "<class 'str'>\n"
     ]
    }
   ],
   "source": [
    "a= \"ArtiFiciAl IntElliGence\"\n",
    "print(a)\n",
    "print(type(a))"
   ]
  },
  {
   "cell_type": "code",
   "execution_count": 26,
   "metadata": {},
   "outputs": [
    {
     "name": "stdout",
     "output_type": "stream",
     "text": [
      "String Class Methods & Attributes\n"
     ]
    },
    {
     "data": {
      "text/plain": [
       "'Artificial intelligence'"
      ]
     },
     "execution_count": 26,
     "metadata": {},
     "output_type": "execute_result"
    }
   ],
   "source": [
    "print(\"String Class Methods & Attributes\")\n",
    "#capitalize() Converts the first character to upper case\n",
    "a= \"ArtiFiciAl IntElliGence\"\n",
    "a.capitalize()\n"
   ]
  },
  {
   "cell_type": "code",
   "execution_count": 6,
   "metadata": {},
   "outputs": [
    {
     "data": {
      "text/plain": [
       "'ARTIFICIAL INTELLIGENCE'"
      ]
     },
     "execution_count": 6,
     "metadata": {},
     "output_type": "execute_result"
    }
   ],
   "source": [
    "a.upper()\n"
   ]
  },
  {
   "cell_type": "code",
   "execution_count": 7,
   "metadata": {},
   "outputs": [
    {
     "data": {
      "text/plain": [
       "'artificial intelligence'"
      ]
     },
     "execution_count": 7,
     "metadata": {},
     "output_type": "execute_result"
    }
   ],
   "source": [
    "a.lower()"
   ]
  },
  {
   "cell_type": "code",
   "execution_count": 9,
   "metadata": {},
   "outputs": [
    {
     "data": {
      "text/plain": [
       "'artificial intelligence'"
      ]
     },
     "execution_count": 9,
     "metadata": {},
     "output_type": "execute_result"
    }
   ],
   "source": [
    "#casefold() Converts string into lower case\n",
    "a.casefold()"
   ]
  },
  {
   "cell_type": "code",
   "execution_count": 35,
   "metadata": {},
   "outputs": [
    {
     "data": {
      "text/plain": [
       "'Ar ti Fici Al  IntElliGence'"
      ]
     },
     "execution_count": 35,
     "metadata": {},
     "output_type": "execute_result"
    }
   ],
   "source": [
    "#expandtabs() Sets the tab size of the string\n",
    "a= \"Ar\\tti\\tFici\\tAl\\t IntElliGence\"\n",
    "a.expandtabs(1)\n"
   ]
  },
  {
   "cell_type": "code",
   "execution_count": 30,
   "metadata": {},
   "outputs": [
    {
     "data": {
      "text/plain": [
       "'     Artificial     '"
      ]
     },
     "execution_count": 30,
     "metadata": {},
     "output_type": "execute_result"
    }
   ],
   "source": [
    "#center() Returns a centered string\n",
    "b = \"Artificial\"\n",
    "b.center(20)\n"
   ]
  },
  {
   "cell_type": "code",
   "execution_count": 32,
   "metadata": {},
   "outputs": [
    {
     "data": {
      "text/plain": [
       "b'ArtiFiciAl IntElliGence'"
      ]
     },
     "execution_count": 32,
     "metadata": {},
     "output_type": "execute_result"
    }
   ],
   "source": [
    "#encode() Returns an encoded version of the string\n",
    "a= \"ArtiFiciAl IntElliGence\"\n",
    "a.encode()"
   ]
  },
  {
   "cell_type": "code",
   "execution_count": 41,
   "metadata": {},
   "outputs": [
    {
     "data": {
      "text/plain": [
       "False"
      ]
     },
     "execution_count": 41,
     "metadata": {},
     "output_type": "execute_result"
    }
   ],
   "source": [
    "#endswith() Returns true if the string ends with the specified value\n",
    "a= \"ArtiFiciAl IntElliGence\"\n",
    "a.endswith(\".\")"
   ]
  },
  {
   "cell_type": "code",
   "execution_count": 42,
   "metadata": {},
   "outputs": [
    {
     "data": {
      "text/plain": [
       "11"
      ]
     },
     "execution_count": 42,
     "metadata": {},
     "output_type": "execute_result"
    }
   ],
   "source": [
    "#find() Searches the string for a specified value and returns the position of where it was found\n",
    "a.find(\"I\")"
   ]
  },
  {
   "cell_type": "code",
   "execution_count": 45,
   "metadata": {},
   "outputs": [
    {
     "data": {
      "text/plain": [
       "4"
      ]
     },
     "execution_count": 45,
     "metadata": {},
     "output_type": "execute_result"
    }
   ],
   "source": [
    "#index() Searches the string for a specified value and returns the position of where it was found\n",
    "a.index(\"F\")"
   ]
  },
  {
   "cell_type": "code",
   "execution_count": 46,
   "metadata": {},
   "outputs": [
    {
     "data": {
      "text/plain": [
       "False"
      ]
     },
     "execution_count": 46,
     "metadata": {},
     "output_type": "execute_result"
    }
   ],
   "source": [
    "#isalnum() Returns True if all characters in the string are alphanumeric\n",
    "a.isalnum()"
   ]
  },
  {
   "cell_type": "code",
   "execution_count": 47,
   "metadata": {},
   "outputs": [
    {
     "data": {
      "text/plain": [
       "False"
      ]
     },
     "execution_count": 47,
     "metadata": {},
     "output_type": "execute_result"
    }
   ],
   "source": [
    "#isalpha() Returns True if all characters in the string are in the alphabet\n",
    "a.isalpha()"
   ]
  },
  {
   "cell_type": "code",
   "execution_count": 63,
   "metadata": {},
   "outputs": [
    {
     "data": {
      "text/plain": [
       "True"
      ]
     },
     "execution_count": 63,
     "metadata": {},
     "output_type": "execute_result"
    }
   ],
   "source": [
    "#isdecimal() Returns True if all characters in the string are decimals\n",
    "b = \"300\"\n",
    "b.isdecimal()"
   ]
  },
  {
   "cell_type": "code",
   "execution_count": 64,
   "metadata": {},
   "outputs": [
    {
     "data": {
      "text/plain": [
       "True"
      ]
     },
     "execution_count": 64,
     "metadata": {},
     "output_type": "execute_result"
    }
   ],
   "source": [
    "#isdigit() Returns True if all characters in the string are digits\n",
    "b.isdigit()"
   ]
  },
  {
   "cell_type": "code",
   "execution_count": 65,
   "metadata": {},
   "outputs": [
    {
     "data": {
      "text/plain": [
       "False"
      ]
     },
     "execution_count": 65,
     "metadata": {},
     "output_type": "execute_result"
    }
   ],
   "source": [
    "#isidentifier() Returns True if the string is an identifier\n",
    "a.isidentifier()"
   ]
  },
  {
   "cell_type": "code",
   "execution_count": 67,
   "metadata": {},
   "outputs": [
    {
     "data": {
      "text/plain": [
       "False"
      ]
     },
     "execution_count": 67,
     "metadata": {},
     "output_type": "execute_result"
    }
   ],
   "source": [
    "#islower() Returns True if all characters in the string are lower case\n",
    "a.islower()"
   ]
  },
  {
   "cell_type": "code",
   "execution_count": 68,
   "metadata": {},
   "outputs": [
    {
     "data": {
      "text/plain": [
       "True"
      ]
     },
     "execution_count": 68,
     "metadata": {},
     "output_type": "execute_result"
    }
   ],
   "source": [
    "#isnumeric() Returns True if all characters in the string are numeric\n",
    "b.isnumeric()"
   ]
  },
  {
   "cell_type": "code",
   "execution_count": 69,
   "metadata": {},
   "outputs": [
    {
     "data": {
      "text/plain": [
       "True"
      ]
     },
     "execution_count": 69,
     "metadata": {},
     "output_type": "execute_result"
    }
   ],
   "source": [
    "#isprintable() Returns True if all characters in the string are printable\n",
    "a.isprintable()"
   ]
  },
  {
   "cell_type": "code",
   "execution_count": 72,
   "metadata": {},
   "outputs": [
    {
     "data": {
      "text/plain": [
       "False"
      ]
     },
     "execution_count": 72,
     "metadata": {},
     "output_type": "execute_result"
    }
   ],
   "source": [
    "#isspace() Returns True if all characters in the string are whitespaces\n",
    "a.isspace()"
   ]
  },
  {
   "cell_type": "code",
   "execution_count": 73,
   "metadata": {},
   "outputs": [
    {
     "data": {
      "text/plain": [
       "False"
      ]
     },
     "execution_count": 73,
     "metadata": {},
     "output_type": "execute_result"
    }
   ],
   "source": [
    "#istitle() Returns True if the string follows the rules of a title\n",
    "a.istitle()"
   ]
  },
  {
   "cell_type": "code",
   "execution_count": 74,
   "metadata": {},
   "outputs": [
    {
     "data": {
      "text/plain": [
       "False"
      ]
     },
     "execution_count": 74,
     "metadata": {},
     "output_type": "execute_result"
    }
   ],
   "source": [
    "#isupper() Returns True if all characters in the string are upper case\n",
    "a.isupper()"
   ]
  },
  {
   "cell_type": "code",
   "execution_count": 78,
   "metadata": {},
   "outputs": [
    {
     "data": {
      "text/plain": [
       "'A.r.t.i.F.i.c.i.A.l. .I.n.t.E.l.l.i.G.e.n.c.e'"
      ]
     },
     "execution_count": 78,
     "metadata": {},
     "output_type": "execute_result"
    }
   ],
   "source": [
    "#join() Joins the elements of an iterable to the end of the string\n",
    "\".\".join(a)"
   ]
  },
  {
   "cell_type": "code",
   "execution_count": 80,
   "metadata": {},
   "outputs": [
    {
     "data": {
      "text/plain": [
       "'300       '"
      ]
     },
     "execution_count": 80,
     "metadata": {},
     "output_type": "execute_result"
    }
   ],
   "source": [
    "#ljust() Returns a left justified version of the string\n",
    "b.ljust(10)"
   ]
  },
  {
   "cell_type": "code",
   "execution_count": 82,
   "metadata": {},
   "outputs": [
    {
     "data": {
      "text/plain": [
       "('Art', 'i', 'FiciAl IntElliGence')"
      ]
     },
     "execution_count": 82,
     "metadata": {},
     "output_type": "execute_result"
    }
   ],
   "source": [
    "#partition() Returns a tuple where the string is parted into three parts\n",
    "a.partition(\"i\")"
   ]
  },
  {
   "cell_type": "code",
   "execution_count": 83,
   "metadata": {},
   "outputs": [
    {
     "data": {
      "text/plain": [
       "'ArtiFiciAl Monitoring'"
      ]
     },
     "execution_count": 83,
     "metadata": {},
     "output_type": "execute_result"
    }
   ],
   "source": [
    "#replace() Returns a string where a specified value is replaced with a specified value\n",
    "a.replace(\"IntElliGence\",\"Monitoring\")"
   ]
  },
  {
   "cell_type": "code",
   "execution_count": 84,
   "metadata": {},
   "outputs": [
    {
     "data": {
      "text/plain": [
       "22"
      ]
     },
     "execution_count": 84,
     "metadata": {},
     "output_type": "execute_result"
    }
   ],
   "source": [
    "#rfind() Searches the string for a specified value and returns the last position of where it was found\n",
    "a.rfind(\"e\")"
   ]
  },
  {
   "cell_type": "code",
   "execution_count": 85,
   "metadata": {},
   "outputs": [
    {
     "data": {
      "text/plain": [
       "17"
      ]
     },
     "execution_count": 85,
     "metadata": {},
     "output_type": "execute_result"
    }
   ],
   "source": [
    "#rindex() Searches the string for a specified value and returns the last position of where it was found\n",
    "a.rindex(\"i\")"
   ]
  },
  {
   "cell_type": "code",
   "execution_count": 86,
   "metadata": {},
   "outputs": [
    {
     "data": {
      "text/plain": [
       "'  300'"
      ]
     },
     "execution_count": 86,
     "metadata": {},
     "output_type": "execute_result"
    }
   ],
   "source": [
    "#rjust() Returns a right justified version of the string\n",
    "b.rjust(5)"
   ]
  },
  {
   "cell_type": "code",
   "execution_count": 89,
   "metadata": {},
   "outputs": [
    {
     "data": {
      "text/plain": [
       "['aslam,', 'hammad,', 'noman']"
      ]
     },
     "execution_count": 89,
     "metadata": {},
     "output_type": "execute_result"
    }
   ],
   "source": [
    "#rsplit() Splits the string at the specified separator, and returns a list\n",
    "c = \"aslam, hammad, noman\"\n",
    "c.rsplit(\" \")"
   ]
  },
  {
   "cell_type": "code",
   "execution_count": 90,
   "metadata": {},
   "outputs": [
    {
     "data": {
      "text/plain": [
       "['ArtiFiciAl', 'IntElliGence']"
      ]
     },
     "execution_count": 90,
     "metadata": {},
     "output_type": "execute_result"
    }
   ],
   "source": [
    "#split() Splits the string at the specified separator, and returns a list\n",
    "a.split()"
   ]
  },
  {
   "cell_type": "code",
   "execution_count": 93,
   "metadata": {},
   "outputs": [
    {
     "data": {
      "text/plain": [
       "['aslam,', ' hammad,', ' noman']"
      ]
     },
     "execution_count": 93,
     "metadata": {},
     "output_type": "execute_result"
    }
   ],
   "source": [
    "#splitlines() Splits the string at line breaks and returns a list\n",
    "d = \"aslam,\\n hammad,\\n noman\"\n",
    "d.splitlines()"
   ]
  },
  {
   "cell_type": "code",
   "execution_count": 94,
   "metadata": {},
   "outputs": [
    {
     "data": {
      "text/plain": [
       "True"
      ]
     },
     "execution_count": 94,
     "metadata": {},
     "output_type": "execute_result"
    }
   ],
   "source": [
    "#startswith() Returns true if the string starts with the specified value\n",
    "a.startswith(\"A\")"
   ]
  },
  {
   "cell_type": "code",
   "execution_count": 95,
   "metadata": {},
   "outputs": [
    {
     "data": {
      "text/plain": [
       "'aRTIfICIaL iNTeLLIgENCE'"
      ]
     },
     "execution_count": 95,
     "metadata": {},
     "output_type": "execute_result"
    }
   ],
   "source": [
    "#swapcase() Swaps cases, lower case becomes upper case and vice versa\n",
    "a.swapcase()"
   ]
  },
  {
   "cell_type": "code",
   "execution_count": 96,
   "metadata": {},
   "outputs": [
    {
     "data": {
      "text/plain": [
       "'00300'"
      ]
     },
     "execution_count": 96,
     "metadata": {},
     "output_type": "execute_result"
    }
   ],
   "source": [
    "#zfill() Fills the string with a specified number of 0 values at the beginning\n",
    "b.zfill(5)"
   ]
  },
  {
   "cell_type": "code",
   "execution_count": 24,
   "metadata": {},
   "outputs": [
    {
     "name": "stdout",
     "output_type": "stream",
     "text": [
      "\n",
      "************PIAIC*************\n",
      "Saylani Walfare Trust\n",
      "Name: Salman\n",
      "Father's Name: Muhammad Qasim\n",
      "Roll No: AIC009512\n",
      "City: Karachi\n",
      "Country: Pakistan\n",
      "*************END**************\n",
      "\n"
     ]
    }
   ],
   "source": [
    "abc = \"\"\"\n",
    "************PIAIC*************\n",
    "Saylani Walfare Trust\n",
    "Name: Salman\n",
    "Father's Name: Muhammad Qasim\n",
    "Roll No: AIC009512\n",
    "City: Karachi\n",
    "Country: Pakistan\n",
    "*************END**************\n",
    "\"\"\"\n",
    "print(abc)"
   ]
  },
  {
   "cell_type": "code",
   "execution_count": 25,
   "metadata": {},
   "outputs": [
    {
     "name": "stdout",
     "output_type": "stream",
     "text": [
      "\n",
      "************PIAIC*************\n",
      "Saylani Walfare Trust\n",
      "Name: Salman\n",
      "Father's Name: Muhammad Qasim\n",
      "Roll No: AIC009512\n",
      "City: Karachi\n",
      "Country: Pakistan\n",
      "*************END**************\n",
      "\n"
     ]
    }
   ],
   "source": [
    "#format() Formats specified values in a string\n",
    "name = \"Salman\"\n",
    "father_name = \"Muhammad Qasim\"\n",
    "roll_no = \"AIC009512\"\n",
    "city = \"Karachi\"\n",
    "country = \"Pakistan\"\n",
    "\"\"\"\n",
    "************PIAIC*************\n",
    "Saylani Walfare Trust\n",
    "Name: {}\n",
    "Father's Name: {}\n",
    "Roll No: {}\n",
    "City: {}\n",
    "Country: {}\n",
    "*************END**************\n",
    "\"\"\"\n",
    "print(abc.format(name, father_name, roll_no, city, country))"
   ]
  },
  {
   "cell_type": "code",
   "execution_count": null,
   "metadata": {},
   "outputs": [],
   "source": []
  }
 ],
 "metadata": {
  "kernelspec": {
   "display_name": "Python 3",
   "language": "python",
   "name": "python3"
  },
  "language_info": {
   "codemirror_mode": {
    "name": "ipython",
    "version": 3
   },
   "file_extension": ".py",
   "mimetype": "text/x-python",
   "name": "python",
   "nbconvert_exporter": "python",
   "pygments_lexer": "ipython3",
   "version": "3.7.3"
  }
 },
 "nbformat": 4,
 "nbformat_minor": 2
}
